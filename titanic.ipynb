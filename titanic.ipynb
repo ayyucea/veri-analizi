{
 "cells": [
  {
   "cell_type": "code",
   "execution_count": 1,
   "id": "96ebf4f4",
   "metadata": {},
   "outputs": [
    {
     "data": {
      "text/html": [
       "<div>\n",
       "<style scoped>\n",
       "    .dataframe tbody tr th:only-of-type {\n",
       "        vertical-align: middle;\n",
       "    }\n",
       "\n",
       "    .dataframe tbody tr th {\n",
       "        vertical-align: top;\n",
       "    }\n",
       "\n",
       "    .dataframe thead th {\n",
       "        text-align: right;\n",
       "    }\n",
       "</style>\n",
       "<table border=\"1\" class=\"dataframe\">\n",
       "  <thead>\n",
       "    <tr style=\"text-align: right;\">\n",
       "      <th></th>\n",
       "      <th>PassengerId</th>\n",
       "      <th>Survived</th>\n",
       "      <th>Pclass</th>\n",
       "      <th>Name</th>\n",
       "      <th>Sex</th>\n",
       "      <th>Age</th>\n",
       "      <th>SibSp</th>\n",
       "      <th>Parch</th>\n",
       "      <th>Ticket</th>\n",
       "      <th>Fare</th>\n",
       "      <th>Cabin</th>\n",
       "      <th>Embarked</th>\n",
       "    </tr>\n",
       "  </thead>\n",
       "  <tbody>\n",
       "    <tr>\n",
       "      <th>0</th>\n",
       "      <td>1</td>\n",
       "      <td>0</td>\n",
       "      <td>3</td>\n",
       "      <td>Braund, Mr. Owen Harris</td>\n",
       "      <td>male</td>\n",
       "      <td>22.0</td>\n",
       "      <td>1</td>\n",
       "      <td>0</td>\n",
       "      <td>A/5 21171</td>\n",
       "      <td>7.2500</td>\n",
       "      <td>NaN</td>\n",
       "      <td>S</td>\n",
       "    </tr>\n",
       "    <tr>\n",
       "      <th>1</th>\n",
       "      <td>2</td>\n",
       "      <td>1</td>\n",
       "      <td>1</td>\n",
       "      <td>Cumings, Mrs. John Bradley (Florence Briggs Th...</td>\n",
       "      <td>female</td>\n",
       "      <td>38.0</td>\n",
       "      <td>1</td>\n",
       "      <td>0</td>\n",
       "      <td>PC 17599</td>\n",
       "      <td>71.2833</td>\n",
       "      <td>C85</td>\n",
       "      <td>C</td>\n",
       "    </tr>\n",
       "    <tr>\n",
       "      <th>2</th>\n",
       "      <td>3</td>\n",
       "      <td>1</td>\n",
       "      <td>3</td>\n",
       "      <td>Heikkinen, Miss. Laina</td>\n",
       "      <td>female</td>\n",
       "      <td>26.0</td>\n",
       "      <td>0</td>\n",
       "      <td>0</td>\n",
       "      <td>STON/O2. 3101282</td>\n",
       "      <td>7.9250</td>\n",
       "      <td>NaN</td>\n",
       "      <td>S</td>\n",
       "    </tr>\n",
       "    <tr>\n",
       "      <th>3</th>\n",
       "      <td>4</td>\n",
       "      <td>1</td>\n",
       "      <td>1</td>\n",
       "      <td>Futrelle, Mrs. Jacques Heath (Lily May Peel)</td>\n",
       "      <td>female</td>\n",
       "      <td>35.0</td>\n",
       "      <td>1</td>\n",
       "      <td>0</td>\n",
       "      <td>113803</td>\n",
       "      <td>53.1000</td>\n",
       "      <td>C123</td>\n",
       "      <td>S</td>\n",
       "    </tr>\n",
       "    <tr>\n",
       "      <th>4</th>\n",
       "      <td>5</td>\n",
       "      <td>0</td>\n",
       "      <td>3</td>\n",
       "      <td>Allen, Mr. William Henry</td>\n",
       "      <td>male</td>\n",
       "      <td>35.0</td>\n",
       "      <td>0</td>\n",
       "      <td>0</td>\n",
       "      <td>373450</td>\n",
       "      <td>8.0500</td>\n",
       "      <td>NaN</td>\n",
       "      <td>S</td>\n",
       "    </tr>\n",
       "  </tbody>\n",
       "</table>\n",
       "</div>"
      ],
      "text/plain": [
       "   PassengerId  Survived  Pclass  \\\n",
       "0            1         0       3   \n",
       "1            2         1       1   \n",
       "2            3         1       3   \n",
       "3            4         1       1   \n",
       "4            5         0       3   \n",
       "\n",
       "                                                Name     Sex   Age  SibSp  \\\n",
       "0                            Braund, Mr. Owen Harris    male  22.0      1   \n",
       "1  Cumings, Mrs. John Bradley (Florence Briggs Th...  female  38.0      1   \n",
       "2                             Heikkinen, Miss. Laina  female  26.0      0   \n",
       "3       Futrelle, Mrs. Jacques Heath (Lily May Peel)  female  35.0      1   \n",
       "4                           Allen, Mr. William Henry    male  35.0      0   \n",
       "\n",
       "   Parch            Ticket     Fare Cabin Embarked  \n",
       "0      0         A/5 21171   7.2500   NaN        S  \n",
       "1      0          PC 17599  71.2833   C85        C  \n",
       "2      0  STON/O2. 3101282   7.9250   NaN        S  \n",
       "3      0            113803  53.1000  C123        S  \n",
       "4      0            373450   8.0500   NaN        S  "
      ]
     },
     "execution_count": 1,
     "metadata": {},
     "output_type": "execute_result"
    }
   ],
   "source": [
    "import pandas as pd\n",
    "\n",
    "# CSV’yi oku\n",
    "df = pd.read_csv(\"Titanic_dataset.csv\")\n",
    "\n",
    "# İlk 5 satırı göster\n",
    "df.head()\n",
    "\n"
   ]
  },
  {
   "cell_type": "code",
   "execution_count": 2,
   "id": "dde7cf2a",
   "metadata": {},
   "outputs": [
    {
     "name": "stdout",
     "output_type": "stream",
     "text": [
      "Kazada ölenlerin yaş ortalaması: 30.62617924528302\n"
     ]
    }
   ],
   "source": [
    "# Kazada ölenler\n",
    "dead = df[df.Survived == 0]\n",
    "\n",
    "# Yaş ortalaması\n",
    "ortalama_yas_olen = dead.Age.mean()\n",
    "print(\"Kazada ölenlerin yaş ortalaması:\", ortalama_yas_olen)\n"
   ]
  },
  {
   "cell_type": "code",
   "execution_count": null,
   "id": "c040f92a",
   "metadata": {},
   "outputs": [
    {
     "name": "stdout",
     "output_type": "stream",
     "text": [
      "2) Kazada ölenlerin bilet fiyatı – Ortalama: 22.12  Medyan: 10.5\n"
     ]
    }
   ],
   "source": [
    "# Kazada ölenlerin bilet fiyatlarının ortalama ve medyanı\n",
    "ortalama_fiyat_olen = dead.Fare.mean()\n",
    "medyan_fiyat_olen   = dead.Fare.median()\n",
    "print(\"2) Kazada ölenlerin bilet fiyatı – Ortalama:\", round(ortalama_fiyat_olen, 2),\n",
    "      \" Medyan:\", round(medyan_fiyat_olen, 2))\n"
   ]
  },
  {
   "cell_type": "code",
   "execution_count": 4,
   "id": "74134bb1",
   "metadata": {},
   "outputs": [
    {
     "name": "stdout",
     "output_type": "stream",
     "text": [
      "3) Ölen erkeklerin yaş ortalaması: 31.62\n"
     ]
    }
   ],
   "source": [
    "#Kazada ölen erkeklerin yaş ortalaması\n",
    "ortalama_yas_olen_erkek = dead[dead.Sex == \"male\"].Age.mean()\n",
    "print(\"3) Ölen erkeklerin yaş ortalaması:\", round(ortalama_yas_olen_erkek, 2))\n"
   ]
  },
  {
   "cell_type": "code",
   "execution_count": 5,
   "id": "54a97e7c",
   "metadata": {},
   "outputs": [
    {
     "name": "stdout",
     "output_type": "stream",
     "text": [
      "4) Ölen kadınların yaş ortalaması: 25.05\n"
     ]
    }
   ],
   "source": [
    "#Kazada ölen kadınların yaş ortalaması\n",
    "ortalama_yas_olen_kadin = dead[dead.Sex == \"female\"].Age.mean()\n",
    "print(\"4) Ölen kadınların yaş ortalaması:\", round(ortalama_yas_olen_kadin, 2))\n"
   ]
  },
  {
   "cell_type": "code",
   "execution_count": 6,
   "id": "ed857e74",
   "metadata": {},
   "outputs": [
    {
     "name": "stdout",
     "output_type": "stream",
     "text": [
      "5) Kurtulanların yaş ortalaması: 28.34\n"
     ]
    }
   ],
   "source": [
    "#Kazadan kurtulanların yaş ortalaması\n",
    "survived = df[df.Survived == 1]\n",
    "ortalama_yas_kurtulan = survived.Age.mean()\n",
    "print(\"5) Kurtulanların yaş ortalaması:\", round(ortalama_yas_kurtulan, 2))\n"
   ]
  },
  {
   "cell_type": "code",
   "execution_count": 7,
   "id": "01b9c3a3",
   "metadata": {},
   "outputs": [
    {
     "name": "stdout",
     "output_type": "stream",
     "text": [
      "6) Kurtulanların bilet fiyatı ortalaması: 48.4\n"
     ]
    }
   ],
   "source": [
    "#Kazadan kurtulanların bilet fiyatlarının ortalaması\n",
    "ortalama_fiyat_kurtulan = survived.Fare.mean()\n",
    "print(\"6) Kurtulanların bilet fiyatı ortalaması:\", round(ortalama_fiyat_kurtulan, 2))\n"
   ]
  },
  {
   "cell_type": "code",
   "execution_count": 8,
   "id": "e585a4c4",
   "metadata": {},
   "outputs": [
    {
     "name": "stdout",
     "output_type": "stream",
     "text": [
      "7) Kurtulan toplam kişi sayısı: 342\n"
     ]
    }
   ],
   "source": [
    "#Kazadan kurtulan toplam kişi sayısı\n",
    "sayi_kurtulan = len(survived)\n",
    "print(\"7) Kurtulan toplam kişi sayısı:\", sayi_kurtulan)\n"
   ]
  },
  {
   "cell_type": "code",
   "execution_count": 9,
   "id": "3d64bb8e",
   "metadata": {},
   "outputs": [
    {
     "name": "stdout",
     "output_type": "stream",
     "text": [
      "8) 10 yaş altı median bilet fiyatı: 27.0\n"
     ]
    }
   ],
   "source": [
    "#10 yaşından küçüklerin bilet fiyatlarının medyan değeri\n",
    "children_under10 = df[df.Age < 10]\n",
    "medyan_cocuk_fiyati = children_under10.Fare.median()\n",
    "print(\"8) 10 yaş altı median bilet fiyatı:\", round(medyan_cocuk_fiyati, 2))\n"
   ]
  },
  {
   "cell_type": "code",
   "execution_count": 10,
   "id": "3a3c848a",
   "metadata": {},
   "outputs": [
    {
     "name": "stdout",
     "output_type": "stream",
     "text": [
      "9) Sınıflara göre bilet fiyatı istatistikleri:\n",
      "         OrtalamaFiyat  MedyanFiyat\n",
      "Pclass                            \n",
      "1               84.15        60.29\n",
      "2               20.66        14.25\n",
      "3               13.68         8.05\n"
     ]
    }
   ],
   "source": [
    "#1., 2. ve 3. sınıf bilet fiyatlarının ortalama ve medyanlarını karşılaştırma\n",
    "pclass_stats = df.groupby(\"Pclass\").Fare.agg([\"mean\",\"median\"]).rename(\n",
    "    columns={\"mean\":\"OrtalamaFiyat\",\"median\":\"MedyanFiyat\"})\n",
    "print(\"9) Sınıflara göre bilet fiyatı istatistikleri:\\n\", \n",
    "      pclass_stats.round(2))\n"
   ]
  },
  {
   "cell_type": "code",
   "execution_count": 11,
   "id": "0035d302",
   "metadata": {},
   "outputs": [
    {
     "name": "stdout",
     "output_type": "stream",
     "text": [
      "10) Ölen erkeklerin oranı: 0.81\n",
      "    Ölen kadınların oranı:    0.26\n"
     ]
    }
   ],
   "source": [
    "#Kazada ölen kadınların oranı ile erkeklerin oranını karşılaştır\n",
    "toplam_by_gender = df.Sex.value_counts()\n",
    "dead_by_gender  = dead.Sex.value_counts()\n",
    "oran_erkek = dead_by_gender[\"male\"]   / toplam_by_gender[\"male\"]\n",
    "oran_kadin = dead_by_gender[\"female\"] / toplam_by_gender[\"female\"]\n",
    "print(f\"10) Ölen erkeklerin oranı: {oran_erkek:.2f}\")\n",
    "print(f\"    Ölen kadınların oranı:    {oran_kadin:.2f}\")\n"
   ]
  }
 ],
 "metadata": {
  "kernelspec": {
   "display_name": "venv",
   "language": "python",
   "name": "python3"
  },
  "language_info": {
   "codemirror_mode": {
    "name": "ipython",
    "version": 3
   },
   "file_extension": ".py",
   "mimetype": "text/x-python",
   "name": "python",
   "nbconvert_exporter": "python",
   "pygments_lexer": "ipython3",
   "version": "3.10.11"
  }
 },
 "nbformat": 4,
 "nbformat_minor": 5
}
